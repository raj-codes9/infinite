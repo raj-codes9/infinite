{
 "cells": [
  {
   "cell_type": "markdown",
   "metadata": {
    "papermill": {
     "duration": 0.011425,
     "end_time": "2024-12-15T15:11:11.449076",
     "exception": false,
     "start_time": "2024-12-15T15:11:11.437651",
     "status": "completed"
    },
    "tags": []
   },
   "source": [
    "## Financial News Sentiment Prediction \n",
    "\n",
    "Given *financial news headlines*, let's try to predict the **sentiment** of a given headline.\n",
    "\n",
    "We will use a TensorFlow RNN to make our predictions."
   ]
  },
  {
   "cell_type": "markdown",
   "metadata": {
    "papermill": {
     "duration": 0.009614,
     "end_time": "2024-12-15T15:11:11.468802",
     "exception": false,
     "start_time": "2024-12-15T15:11:11.459188",
     "status": "completed"
    },
    "tags": []
   },
   "source": [
    "# Getting Started"
   ]
  },
  {
   "cell_type": "code",
   "execution_count": 1,
   "metadata": {
    "execution": {
     "iopub.execute_input": "2024-12-15T15:11:11.495004Z",
     "iopub.status.busy": "2024-12-15T15:11:11.494230Z",
     "iopub.status.idle": "2024-12-15T15:11:18.138881Z",
     "shell.execute_reply": "2024-12-15T15:11:18.138062Z",
     "shell.execute_reply.started": "2024-12-08T01:44:44.747482Z"
    },
    "papermill": {
     "duration": 6.660438,
     "end_time": "2024-12-15T15:11:18.139113",
     "exception": false,
     "start_time": "2024-12-15T15:11:11.478675",
     "status": "completed"
    },
    "tags": []
   },
   "outputs": [],
   "source": [
    "# import libraries\n",
    "# numpy and pandas for working with data\n",
    "import numpy as np\n",
    "import pandas as pd\n",
    "\n",
    "# these libraries for preprocessing\n",
    "from tensorflow.keras.preprocessing.text import Tokenizer\n",
    "from tensorflow.keras.preprocessing.sequence import pad_sequences\n",
    "from sklearn.model_selection import train_test_split\n",
    "\n",
    "# for model\n",
    "import tensorflow as tf"
   ]
  },
  {
   "cell_type": "code",
   "execution_count": 2,
   "metadata": {
    "execution": {
     "iopub.execute_input": "2024-12-15T15:11:18.165302Z",
     "iopub.status.busy": "2024-12-15T15:11:18.164685Z",
     "iopub.status.idle": "2024-12-15T15:11:18.206613Z",
     "shell.execute_reply": "2024-12-15T15:11:18.206021Z",
     "shell.execute_reply.started": "2024-12-08T01:44:52.861027Z"
    },
    "papermill": {
     "duration": 0.056558,
     "end_time": "2024-12-15T15:11:18.206788",
     "exception": false,
     "start_time": "2024-12-15T15:11:18.150230",
     "status": "completed"
    },
    "tags": []
   },
   "outputs": [],
   "source": [
    "# input the data from dataset\n",
    "data = pd.read_csv('../input/sentiment-analysis-for-financial-news/all-data.csv', names=['Label', 'Text'], encoding='latin-1')"
   ]
  },
  {
   "cell_type": "code",
   "execution_count": 3,
   "metadata": {
    "execution": {
     "iopub.execute_input": "2024-12-15T15:11:18.241762Z",
     "iopub.status.busy": "2024-12-15T15:11:18.240758Z",
     "iopub.status.idle": "2024-12-15T15:11:18.259414Z",
     "shell.execute_reply": "2024-12-15T15:11:18.259893Z",
     "shell.execute_reply.started": "2024-12-08T01:44:52.916611Z"
    },
    "papermill": {
     "duration": 0.043321,
     "end_time": "2024-12-15T15:11:18.260067",
     "exception": false,
     "start_time": "2024-12-15T15:11:18.216746",
     "status": "completed"
    },
    "tags": []
   },
   "outputs": [
    {
     "data": {
      "text/html": [
       "<div>\n",
       "<style scoped>\n",
       "    .dataframe tbody tr th:only-of-type {\n",
       "        vertical-align: middle;\n",
       "    }\n",
       "\n",
       "    .dataframe tbody tr th {\n",
       "        vertical-align: top;\n",
       "    }\n",
       "\n",
       "    .dataframe thead th {\n",
       "        text-align: right;\n",
       "    }\n",
       "</style>\n",
       "<table border=\"1\" class=\"dataframe\">\n",
       "  <thead>\n",
       "    <tr style=\"text-align: right;\">\n",
       "      <th></th>\n",
       "      <th>Label</th>\n",
       "      <th>Text</th>\n",
       "    </tr>\n",
       "  </thead>\n",
       "  <tbody>\n",
       "    <tr>\n",
       "      <th>0</th>\n",
       "      <td>neutral</td>\n",
       "      <td>According to Gran , the company has no plans t...</td>\n",
       "    </tr>\n",
       "    <tr>\n",
       "      <th>1</th>\n",
       "      <td>neutral</td>\n",
       "      <td>Technopolis plans to develop in stages an area...</td>\n",
       "    </tr>\n",
       "    <tr>\n",
       "      <th>2</th>\n",
       "      <td>negative</td>\n",
       "      <td>The international electronic industry company ...</td>\n",
       "    </tr>\n",
       "    <tr>\n",
       "      <th>3</th>\n",
       "      <td>positive</td>\n",
       "      <td>With the new production plant the company woul...</td>\n",
       "    </tr>\n",
       "    <tr>\n",
       "      <th>4</th>\n",
       "      <td>positive</td>\n",
       "      <td>According to the company 's updated strategy f...</td>\n",
       "    </tr>\n",
       "    <tr>\n",
       "      <th>...</th>\n",
       "      <td>...</td>\n",
       "      <td>...</td>\n",
       "    </tr>\n",
       "    <tr>\n",
       "      <th>4841</th>\n",
       "      <td>negative</td>\n",
       "      <td>LONDON MarketWatch -- Share prices ended lower...</td>\n",
       "    </tr>\n",
       "    <tr>\n",
       "      <th>4842</th>\n",
       "      <td>neutral</td>\n",
       "      <td>Rinkuskiai 's beer sales fell by 6.5 per cent ...</td>\n",
       "    </tr>\n",
       "    <tr>\n",
       "      <th>4843</th>\n",
       "      <td>negative</td>\n",
       "      <td>Operating profit fell to EUR 35.4 mn from EUR ...</td>\n",
       "    </tr>\n",
       "    <tr>\n",
       "      <th>4844</th>\n",
       "      <td>negative</td>\n",
       "      <td>Net sales of the Paper segment decreased to EU...</td>\n",
       "    </tr>\n",
       "    <tr>\n",
       "      <th>4845</th>\n",
       "      <td>negative</td>\n",
       "      <td>Sales in Finland decreased by 10.5 % in Januar...</td>\n",
       "    </tr>\n",
       "  </tbody>\n",
       "</table>\n",
       "<p>4846 rows × 2 columns</p>\n",
       "</div>"
      ],
      "text/plain": [
       "         Label                                               Text\n",
       "0      neutral  According to Gran , the company has no plans t...\n",
       "1      neutral  Technopolis plans to develop in stages an area...\n",
       "2     negative  The international electronic industry company ...\n",
       "3     positive  With the new production plant the company woul...\n",
       "4     positive  According to the company 's updated strategy f...\n",
       "...        ...                                                ...\n",
       "4841  negative  LONDON MarketWatch -- Share prices ended lower...\n",
       "4842   neutral  Rinkuskiai 's beer sales fell by 6.5 per cent ...\n",
       "4843  negative  Operating profit fell to EUR 35.4 mn from EUR ...\n",
       "4844  negative  Net sales of the Paper segment decreased to EU...\n",
       "4845  negative  Sales in Finland decreased by 10.5 % in Januar...\n",
       "\n",
       "[4846 rows x 2 columns]"
      ]
     },
     "execution_count": 3,
     "metadata": {},
     "output_type": "execute_result"
    }
   ],
   "source": [
    "# visualize data\n",
    "data"
   ]
  },
  {
   "cell_type": "code",
   "execution_count": 4,
   "metadata": {
    "execution": {
     "iopub.execute_input": "2024-12-15T15:11:18.299294Z",
     "iopub.status.busy": "2024-12-15T15:11:18.298424Z",
     "iopub.status.idle": "2024-12-15T15:11:18.302031Z",
     "shell.execute_reply": "2024-12-15T15:11:18.302547Z",
     "shell.execute_reply.started": "2024-12-08T01:44:52.954889Z"
    },
    "papermill": {
     "duration": 0.0322,
     "end_time": "2024-12-15T15:11:18.302729",
     "exception": false,
     "start_time": "2024-12-15T15:11:18.270529",
     "status": "completed"
    },
    "tags": []
   },
   "outputs": [
    {
     "name": "stdout",
     "output_type": "stream",
     "text": [
      "<class 'pandas.core.frame.DataFrame'>\n",
      "RangeIndex: 4846 entries, 0 to 4845\n",
      "Data columns (total 2 columns):\n",
      " #   Column  Non-Null Count  Dtype \n",
      "---  ------  --------------  ----- \n",
      " 0   Label   4846 non-null   object\n",
      " 1   Text    4846 non-null   object\n",
      "dtypes: object(2)\n",
      "memory usage: 75.8+ KB\n"
     ]
    }
   ],
   "source": [
    "data.info()"
   ]
  },
  {
   "cell_type": "markdown",
   "metadata": {
    "papermill": {
     "duration": 0.009973,
     "end_time": "2024-12-15T15:11:18.323046",
     "exception": false,
     "start_time": "2024-12-15T15:11:18.313073",
     "status": "completed"
    },
    "tags": []
   },
   "source": [
    "# Preprocessing"
   ]
  },
  {
   "cell_type": "code",
   "execution_count": 5,
   "metadata": {
    "execution": {
     "iopub.execute_input": "2024-12-15T15:11:18.350248Z",
     "iopub.status.busy": "2024-12-15T15:11:18.349617Z",
     "iopub.status.idle": "2024-12-15T15:11:18.352849Z",
     "shell.execute_reply": "2024-12-15T15:11:18.352346Z",
     "shell.execute_reply.started": "2024-12-08T01:44:52.980069Z"
    },
    "papermill": {
     "duration": 0.019325,
     "end_time": "2024-12-15T15:11:18.352998",
     "exception": false,
     "start_time": "2024-12-15T15:11:18.333673",
     "status": "completed"
    },
    "tags": []
   },
   "outputs": [],
   "source": [
    "# encode each word as it's own integer + sort words in order of frequency\n",
    "def get_sequences(texts):\n",
    "    tokenizer = Tokenizer()\n",
    "    tokenizer.fit_on_texts(texts)\n",
    "    \n",
    "    sequences = tokenizer.texts_to_sequences(texts)\n",
    "    print(\"Vocab length:\", len(tokenizer.word_index) + 1)\n",
    "    \n",
    "    max_seq_length = np.max(list(map(lambda x: len(x), sequences)))\n",
    "    print(\"Maximum sequence length:\", max_seq_length)\n",
    "    \n",
    "    sequences = pad_sequences(sequences, maxlen=max_seq_length, padding='post')\n",
    "    # padding='post' means 0 go to the end\n",
    "    \n",
    "    return sequences"
   ]
  },
  {
   "cell_type": "code",
   "execution_count": 6,
   "metadata": {
    "execution": {
     "iopub.execute_input": "2024-12-15T15:11:18.380355Z",
     "iopub.status.busy": "2024-12-15T15:11:18.379650Z",
     "iopub.status.idle": "2024-12-15T15:11:18.382682Z",
     "shell.execute_reply": "2024-12-15T15:11:18.382131Z",
     "shell.execute_reply.started": "2024-12-08T01:44:52.998277Z"
    },
    "papermill": {
     "duration": 0.019311,
     "end_time": "2024-12-15T15:11:18.382838",
     "exception": false,
     "start_time": "2024-12-15T15:11:18.363527",
     "status": "completed"
    },
    "tags": []
   },
   "outputs": [],
   "source": [
    "# makes a copy of what we have\n",
    "def preprocess_inputs(df):\n",
    "    df = df.copy()\n",
    "    \n",
    "    sequences = get_sequences(df['Text'])\n",
    "    \n",
    "    label_mapping = {\n",
    "        'negative': 0,\n",
    "        'neutral': 1,\n",
    "        'positive': 2\n",
    "    }\n",
    "\n",
    "    # performs the mapping function\n",
    "    y = df['Label'].replace(label_mapping)\n",
    "    \n",
    "    train_sequences, test_sequences, y_train, y_test = train_test_split(sequences, y, train_size=0.7, shuffle=True, random_state=1)\n",
    "    \n",
    "    return train_sequences, test_sequences, y_train, y_test"
   ]
  },
  {
   "cell_type": "code",
   "execution_count": 7,
   "metadata": {
    "execution": {
     "iopub.execute_input": "2024-12-15T15:11:18.431269Z",
     "iopub.status.busy": "2024-12-15T15:11:18.420659Z",
     "iopub.status.idle": "2024-12-15T15:11:18.663368Z",
     "shell.execute_reply": "2024-12-15T15:11:18.663883Z",
     "shell.execute_reply.started": "2024-12-08T01:44:53.017123Z"
    },
    "papermill": {
     "duration": 0.270798,
     "end_time": "2024-12-15T15:11:18.664072",
     "exception": false,
     "start_time": "2024-12-15T15:11:18.393274",
     "status": "completed"
    },
    "tags": []
   },
   "outputs": [
    {
     "name": "stdout",
     "output_type": "stream",
     "text": [
      "Vocab length: 10123\n",
      "Maximum sequence length: 71\n"
     ]
    }
   ],
   "source": [
    "train_sequences, test_sequences, y_train, y_test = preprocess_inputs(data)"
   ]
  },
  {
   "cell_type": "code",
   "execution_count": 8,
   "metadata": {
    "execution": {
     "iopub.execute_input": "2024-12-15T15:11:18.692103Z",
     "iopub.status.busy": "2024-12-15T15:11:18.691460Z",
     "iopub.status.idle": "2024-12-15T15:11:18.696205Z",
     "shell.execute_reply": "2024-12-15T15:11:18.695673Z",
     "shell.execute_reply.started": "2024-12-08T01:44:53.296217Z"
    },
    "papermill": {
     "duration": 0.021653,
     "end_time": "2024-12-15T15:11:18.696345",
     "exception": false,
     "start_time": "2024-12-15T15:11:18.674692",
     "status": "completed"
    },
    "tags": []
   },
   "outputs": [
    {
     "data": {
      "text/plain": [
       "array([[5442,  510,   16, ...,    0,    0,    0],\n",
       "       [  22, 1628,    4, ...,    0,    0,    0],\n",
       "       [1141,  936,  136, ...,    0,    0,    0],\n",
       "       ...,\n",
       "       [   1,  419,   16, ...,    0,    0,    0],\n",
       "       [2586,  123, 3247, ...,    0,    0,    0],\n",
       "       [  30,  615,  555, ...,    0,    0,    0]], dtype=int32)"
      ]
     },
     "execution_count": 8,
     "metadata": {},
     "output_type": "execute_result"
    }
   ],
   "source": [
    "# vector length is 71\n",
    "train_sequences"
   ]
  },
  {
   "cell_type": "code",
   "execution_count": 9,
   "metadata": {
    "execution": {
     "iopub.execute_input": "2024-12-15T15:11:18.725376Z",
     "iopub.status.busy": "2024-12-15T15:11:18.724560Z",
     "iopub.status.idle": "2024-12-15T15:11:18.728616Z",
     "shell.execute_reply": "2024-12-15T15:11:18.728112Z",
     "shell.execute_reply.started": "2024-12-08T01:44:53.305666Z"
    },
    "papermill": {
     "duration": 0.020873,
     "end_time": "2024-12-15T15:11:18.728760",
     "exception": false,
     "start_time": "2024-12-15T15:11:18.707887",
     "status": "completed"
    },
    "tags": []
   },
   "outputs": [
    {
     "data": {
      "text/plain": [
       "545     2\n",
       "2374    0\n",
       "4217    1\n",
       "1071    1\n",
       "716     2\n",
       "       ..\n",
       "2895    1\n",
       "2763    1\n",
       "905     2\n",
       "3980    1\n",
       "235     2\n",
       "Name: Label, Length: 3392, dtype: int64"
      ]
     },
     "execution_count": 9,
     "metadata": {},
     "output_type": "execute_result"
    }
   ],
   "source": [
    "# numeric integer labels\n",
    "y_train"
   ]
  },
  {
   "cell_type": "markdown",
   "metadata": {
    "papermill": {
     "duration": 0.010794,
     "end_time": "2024-12-15T15:11:18.750899",
     "exception": false,
     "start_time": "2024-12-15T15:11:18.740105",
     "status": "completed"
    },
    "tags": []
   },
   "source": [
    "# Training"
   ]
  },
  {
   "cell_type": "code",
   "execution_count": 10,
   "metadata": {
    "execution": {
     "iopub.execute_input": "2024-12-15T15:11:18.781522Z",
     "iopub.status.busy": "2024-12-15T15:11:18.780539Z",
     "iopub.status.idle": "2024-12-15T15:12:22.933665Z",
     "shell.execute_reply": "2024-12-15T15:12:22.933085Z",
     "shell.execute_reply.started": "2024-12-08T01:44:53.325307Z"
    },
    "papermill": {
     "duration": 64.171686,
     "end_time": "2024-12-15T15:12:22.933829",
     "exception": false,
     "start_time": "2024-12-15T15:11:18.762143",
     "status": "completed"
    },
    "tags": []
   },
   "outputs": [
    {
     "name": "stdout",
     "output_type": "stream",
     "text": [
      "Epoch 1/100\n",
      "85/85 [==============================] - 15s 149ms/step - loss: 0.9175 - accuracy: 0.5946 - val_loss: 0.7950 - val_accuracy: 0.6406\n",
      "Epoch 2/100\n",
      "85/85 [==============================] - 13s 148ms/step - loss: 0.5266 - accuracy: 0.7793 - val_loss: 0.7702 - val_accuracy: 0.6745\n",
      "Epoch 3/100\n",
      "85/85 [==============================] - 12s 141ms/step - loss: 0.1625 - accuracy: 0.9485 - val_loss: 1.3077 - val_accuracy: 0.7010\n",
      "Epoch 4/100\n",
      "85/85 [==============================] - 12s 146ms/step - loss: 0.0401 - accuracy: 0.9876 - val_loss: 1.1368 - val_accuracy: 0.7099\n",
      "Epoch 5/100\n",
      "85/85 [==============================] - 12s 141ms/step - loss: 0.0249 - accuracy: 0.9928 - val_loss: 1.2095 - val_accuracy: 0.7113\n"
     ]
    }
   ],
   "source": [
    "inputs = tf.keras.Input(shape=(train_sequences.shape[1],))\n",
    "x = tf.keras.layers.Embedding(\n",
    "    input_dim=10123,\n",
    "    output_dim=128,\n",
    "    input_length=train_sequences.shape[1]\n",
    ")(inputs)\n",
    "\n",
    "# Using GRU model which is type of RNN\n",
    "x = tf.keras.layers.GRU(256, return_sequences=True, activation='tanh')(x)\n",
    "x = tf.keras.layers.Flatten()(x)\n",
    "outputs = tf.keras.layers.Dense(3, activation='softmax')(x)\n",
    "\n",
    "model = tf.keras.Model(inputs=inputs, outputs=outputs)\n",
    "\n",
    "model.compile(\n",
    "    optimizer='adam',\n",
    "    loss='sparse_categorical_crossentropy',\n",
    "    metrics=['accuracy']\n",
    ")\n",
    "\n",
    "history = model.fit(\n",
    "    train_sequences,\n",
    "    y_train,\n",
    "    validation_split=0.2,\n",
    "    batch_size=32,\n",
    "    epochs=100,\n",
    "    callbacks=[\n",
    "        tf.keras.callbacks.EarlyStopping(\n",
    "            monitor='val_loss',\n",
    "            patience=3,\n",
    "            restore_best_weights=True\n",
    "        )\n",
    "    ]\n",
    ")"
   ]
  },
  {
   "cell_type": "markdown",
   "metadata": {
    "papermill": {
     "duration": 0.107009,
     "end_time": "2024-12-15T15:12:23.157011",
     "exception": false,
     "start_time": "2024-12-15T15:12:23.050002",
     "status": "completed"
    },
    "tags": []
   },
   "source": [
    "# Results"
   ]
  },
  {
   "cell_type": "code",
   "execution_count": 11,
   "metadata": {
    "execution": {
     "iopub.execute_input": "2024-12-15T15:12:23.412362Z",
     "iopub.status.busy": "2024-12-15T15:12:23.411768Z",
     "iopub.status.idle": "2024-12-15T15:12:25.143746Z",
     "shell.execute_reply": "2024-12-15T15:12:25.143126Z",
     "shell.execute_reply.started": "2024-12-08T01:45:55.678434Z"
    },
    "papermill": {
     "duration": 1.857554,
     "end_time": "2024-12-15T15:12:25.143918",
     "exception": false,
     "start_time": "2024-12-15T15:12:23.286364",
     "status": "completed"
    },
    "tags": []
   },
   "outputs": [
    {
     "name": "stdout",
     "output_type": "stream",
     "text": [
      "    Test Loss: 0.67398\n",
      "Test Accuracy: 72.76%\n"
     ]
    }
   ],
   "source": [
    "results = model.evaluate(test_sequences, y_test, verbose=0)\n",
    "\n",
    "print(\"    Test Loss: {:.5f}\".format(results[0]))\n",
    "print(\"Test Accuracy: {:.2f}%\".format(results[1] * 100))"
   ]
  },
  {
   "cell_type": "code",
   "execution_count": 12,
   "metadata": {
    "execution": {
     "iopub.execute_input": "2024-12-15T15:12:25.369756Z",
     "iopub.status.busy": "2024-12-15T15:12:25.368985Z",
     "iopub.status.idle": "2024-12-15T15:12:25.373018Z",
     "shell.execute_reply": "2024-12-15T15:12:25.373548Z",
     "shell.execute_reply.started": "2024-12-08T01:45:57.495419Z"
    },
    "papermill": {
     "duration": 0.121822,
     "end_time": "2024-12-15T15:12:25.373736",
     "exception": false,
     "start_time": "2024-12-15T15:12:25.251914",
     "status": "completed"
    },
    "tags": []
   },
   "outputs": [
    {
     "data": {
      "text/plain": [
       "1    850\n",
       "2    420\n",
       "0    184\n",
       "Name: Label, dtype: int64"
      ]
     },
     "execution_count": 12,
     "metadata": {},
     "output_type": "execute_result"
    }
   ],
   "source": [
    "# see how many pos/neg/neu\n",
    "y_test.value_counts()"
   ]
  },
  {
   "cell_type": "markdown",
   "metadata": {
    "papermill": {
     "duration": 0.108476,
     "end_time": "2024-12-15T15:12:25.590109",
     "exception": false,
     "start_time": "2024-12-15T15:12:25.481633",
     "status": "completed"
    },
    "tags": []
   },
   "source": [
    "# Test"
   ]
  },
  {
   "cell_type": "raw",
   "metadata": {
    "papermill": {
     "duration": 0.107079,
     "end_time": "2024-12-15T15:12:25.806186",
     "exception": false,
     "start_time": "2024-12-15T15:12:25.699107",
     "status": "completed"
    },
    "tags": []
   },
   "source": [
    "def preprocess_text(text):\n",
    "    tokenizer = Tokenizer()\n",
    "    tokenizer.fit_on_texts(data['Text'])\n",
    "    sequence = tokenizer.texts_to_sequences([text])\n",
    "    padded_sequence = pad_sequences(sequence, maxlen=71, padding='post')\n",
    "    return padded_sequence\n",
    "\n",
    "def predict_sentiment(headline):\n",
    "    preprocessed_headline = preprocess_text(headline)\n",
    "    prediction = model.predict(preprocessed_headline)\n",
    "    sentiment_labels = ['negative', 'neutral', 'positive']\n",
    "    predicted_sentiment = sentiment_labels[np.argmax(prediction)]\n",
    "    confidence = np.max(prediction)\n",
    "    return predicted_sentiment, confidence\n",
    "\n",
    "# Interactive loop for user input\n",
    "while True:\n",
    "    user_headline = input(\"Enter a headline (or 'quit' to exit): \")\n",
    "    if user_headline.lower() == 'quit':\n",
    "        break\n",
    "    sentiment, confidence = predict_sentiment(user_headline)\n",
    "    print(f\"Predicted sentiment: {sentiment}\")\n",
    "    print(f\"Confidence: {confidence:.2f}\")"
   ]
  }
 ],
 "metadata": {
  "kaggle": {
   "accelerator": "gpu",
   "dataSources": [
    {
     "datasetId": 622510,
     "sourceId": 1192499,
     "sourceType": "datasetVersion"
    }
   ],
   "dockerImageVersionId": 30055,
   "isGpuEnabled": true,
   "isInternetEnabled": false,
   "language": "python",
   "sourceType": "notebook"
  },
  "kernelspec": {
   "display_name": "Python 3",
   "language": "python",
   "name": "python3"
  },
  "language_info": {
   "codemirror_mode": {
    "name": "ipython",
    "version": 3
   },
   "file_extension": ".py",
   "mimetype": "text/x-python",
   "name": "python",
   "nbconvert_exporter": "python",
   "pygments_lexer": "ipython3",
   "version": "3.7.9"
  },
  "papermill": {
   "default_parameters": {},
   "duration": 81.020042,
   "end_time": "2024-12-15T15:12:27.127568",
   "environment_variables": {},
   "exception": null,
   "input_path": "__notebook__.ipynb",
   "output_path": "__notebook__.ipynb",
   "parameters": {},
   "start_time": "2024-12-15T15:11:06.107526",
   "version": "2.2.2"
  }
 },
 "nbformat": 4,
 "nbformat_minor": 4
}
