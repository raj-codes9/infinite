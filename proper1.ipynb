{
 "cells": [
  {
   "cell_type": "markdown",
   "metadata": {
    "papermill": {
     "duration": 0.010295,
     "end_time": "2024-12-06T02:21:57.951269",
     "exception": false,
     "start_time": "2024-12-06T02:21:57.940974",
     "status": "completed"
    },
    "tags": []
   },
   "source": [
    "# Task for Today  \n",
    "\n",
    "***\n",
    "\n",
    "## Financial News Sentiment Prediction  \n",
    "\n",
    "Given *financial news headlines*, let's try to predict the **sentiment** of a given headline.\n",
    "\n",
    "We will use a TensorFlow RNN to make our predictions."
   ]
  },
  {
   "cell_type": "markdown",
   "metadata": {
    "papermill": {
     "duration": 0.008576,
     "end_time": "2024-12-06T02:21:57.969057",
     "exception": false,
     "start_time": "2024-12-06T02:21:57.960481",
     "status": "completed"
    },
    "tags": []
   },
   "source": [
    "# Getting Started"
   ]
  },
  {
   "cell_type": "code",
   "execution_count": 1,
   "metadata": {
    "execution": {
     "iopub.execute_input": "2024-12-06T02:21:57.992921Z",
     "iopub.status.busy": "2024-12-06T02:21:57.992250Z",
     "iopub.status.idle": "2024-12-06T02:22:03.880109Z",
     "shell.execute_reply": "2024-12-06T02:22:03.879348Z",
     "shell.execute_reply.started": "2024-12-06T02:13:35.943147Z"
    },
    "papermill": {
     "duration": 5.902265,
     "end_time": "2024-12-06T02:22:03.880304",
     "exception": false,
     "start_time": "2024-12-06T02:21:57.978039",
     "status": "completed"
    },
    "tags": []
   },
   "outputs": [],
   "source": [
    "# import libraries\n",
    "# numpy and pandas for working with data\n",
    "import numpy as np\n",
    "import pandas as pd\n",
    "\n",
    "# these libraries for preprocessing\n",
    "from tensorflow.keras.preprocessing.text import Tokenizer\n",
    "from tensorflow.keras.preprocessing.sequence import pad_sequences\n",
    "from sklearn.model_selection import train_test_split\n",
    "\n",
    "# for model\n",
    "import tensorflow as tf\n",
    "\n",
    "# for test\n",
    "import pickle\n",
    "from sklearn.feature_extraction.text import CountVectorizer\n",
    "from sklearn.naive_bayes import MultinomialNB\n",
    "from sklearn.pipeline import Pipeline"
   ]
  },
  {
   "cell_type": "code",
   "execution_count": 2,
   "metadata": {
    "execution": {
     "iopub.execute_input": "2024-12-06T02:22:03.902805Z",
     "iopub.status.busy": "2024-12-06T02:22:03.902138Z",
     "iopub.status.idle": "2024-12-06T02:22:03.938316Z",
     "shell.execute_reply": "2024-12-06T02:22:03.937820Z",
     "shell.execute_reply.started": "2024-12-06T02:13:35.974597Z"
    },
    "papermill": {
     "duration": 0.049103,
     "end_time": "2024-12-06T02:22:03.938505",
     "exception": false,
     "start_time": "2024-12-06T02:22:03.889402",
     "status": "completed"
    },
    "tags": []
   },
   "outputs": [],
   "source": [
    "# input the data from dataset\n",
    "data = pd.read_csv('../input/sentiment-analysis-for-financial-news/all-data.csv', names=['Label', 'Text'], encoding='latin-1')"
   ]
  },
  {
   "cell_type": "code",
   "execution_count": 3,
   "metadata": {
    "execution": {
     "iopub.execute_input": "2024-12-06T02:22:03.970864Z",
     "iopub.status.busy": "2024-12-06T02:22:03.969955Z",
     "iopub.status.idle": "2024-12-06T02:22:03.985638Z",
     "shell.execute_reply": "2024-12-06T02:22:03.986042Z",
     "shell.execute_reply.started": "2024-12-06T02:13:35.999615Z"
    },
    "papermill": {
     "duration": 0.038619,
     "end_time": "2024-12-06T02:22:03.986205",
     "exception": false,
     "start_time": "2024-12-06T02:22:03.947586",
     "status": "completed"
    },
    "tags": []
   },
   "outputs": [
    {
     "data": {
      "text/html": [
       "<div>\n",
       "<style scoped>\n",
       "    .dataframe tbody tr th:only-of-type {\n",
       "        vertical-align: middle;\n",
       "    }\n",
       "\n",
       "    .dataframe tbody tr th {\n",
       "        vertical-align: top;\n",
       "    }\n",
       "\n",
       "    .dataframe thead th {\n",
       "        text-align: right;\n",
       "    }\n",
       "</style>\n",
       "<table border=\"1\" class=\"dataframe\">\n",
       "  <thead>\n",
       "    <tr style=\"text-align: right;\">\n",
       "      <th></th>\n",
       "      <th>Label</th>\n",
       "      <th>Text</th>\n",
       "    </tr>\n",
       "  </thead>\n",
       "  <tbody>\n",
       "    <tr>\n",
       "      <th>0</th>\n",
       "      <td>neutral</td>\n",
       "      <td>According to Gran , the company has no plans t...</td>\n",
       "    </tr>\n",
       "    <tr>\n",
       "      <th>1</th>\n",
       "      <td>neutral</td>\n",
       "      <td>Technopolis plans to develop in stages an area...</td>\n",
       "    </tr>\n",
       "    <tr>\n",
       "      <th>2</th>\n",
       "      <td>negative</td>\n",
       "      <td>The international electronic industry company ...</td>\n",
       "    </tr>\n",
       "    <tr>\n",
       "      <th>3</th>\n",
       "      <td>positive</td>\n",
       "      <td>With the new production plant the company woul...</td>\n",
       "    </tr>\n",
       "    <tr>\n",
       "      <th>4</th>\n",
       "      <td>positive</td>\n",
       "      <td>According to the company 's updated strategy f...</td>\n",
       "    </tr>\n",
       "    <tr>\n",
       "      <th>...</th>\n",
       "      <td>...</td>\n",
       "      <td>...</td>\n",
       "    </tr>\n",
       "    <tr>\n",
       "      <th>4841</th>\n",
       "      <td>negative</td>\n",
       "      <td>LONDON MarketWatch -- Share prices ended lower...</td>\n",
       "    </tr>\n",
       "    <tr>\n",
       "      <th>4842</th>\n",
       "      <td>neutral</td>\n",
       "      <td>Rinkuskiai 's beer sales fell by 6.5 per cent ...</td>\n",
       "    </tr>\n",
       "    <tr>\n",
       "      <th>4843</th>\n",
       "      <td>negative</td>\n",
       "      <td>Operating profit fell to EUR 35.4 mn from EUR ...</td>\n",
       "    </tr>\n",
       "    <tr>\n",
       "      <th>4844</th>\n",
       "      <td>negative</td>\n",
       "      <td>Net sales of the Paper segment decreased to EU...</td>\n",
       "    </tr>\n",
       "    <tr>\n",
       "      <th>4845</th>\n",
       "      <td>negative</td>\n",
       "      <td>Sales in Finland decreased by 10.5 % in Januar...</td>\n",
       "    </tr>\n",
       "  </tbody>\n",
       "</table>\n",
       "<p>4846 rows × 2 columns</p>\n",
       "</div>"
      ],
      "text/plain": [
       "         Label                                               Text\n",
       "0      neutral  According to Gran , the company has no plans t...\n",
       "1      neutral  Technopolis plans to develop in stages an area...\n",
       "2     negative  The international electronic industry company ...\n",
       "3     positive  With the new production plant the company woul...\n",
       "4     positive  According to the company 's updated strategy f...\n",
       "...        ...                                                ...\n",
       "4841  negative  LONDON MarketWatch -- Share prices ended lower...\n",
       "4842   neutral  Rinkuskiai 's beer sales fell by 6.5 per cent ...\n",
       "4843  negative  Operating profit fell to EUR 35.4 mn from EUR ...\n",
       "4844  negative  Net sales of the Paper segment decreased to EU...\n",
       "4845  negative  Sales in Finland decreased by 10.5 % in Januar...\n",
       "\n",
       "[4846 rows x 2 columns]"
      ]
     },
     "execution_count": 3,
     "metadata": {},
     "output_type": "execute_result"
    }
   ],
   "source": [
    "# visualize data\n",
    "data"
   ]
  },
  {
   "cell_type": "code",
   "execution_count": 4,
   "metadata": {
    "execution": {
     "iopub.execute_input": "2024-12-06T02:22:04.021112Z",
     "iopub.status.busy": "2024-12-06T02:22:04.020383Z",
     "iopub.status.idle": "2024-12-06T02:22:04.023455Z",
     "shell.execute_reply": "2024-12-06T02:22:04.023907Z",
     "shell.execute_reply.started": "2024-12-06T02:13:36.015752Z"
    },
    "papermill": {
     "duration": 0.028281,
     "end_time": "2024-12-06T02:22:04.024069",
     "exception": false,
     "start_time": "2024-12-06T02:22:03.995788",
     "status": "completed"
    },
    "tags": []
   },
   "outputs": [
    {
     "name": "stdout",
     "output_type": "stream",
     "text": [
      "<class 'pandas.core.frame.DataFrame'>\n",
      "RangeIndex: 4846 entries, 0 to 4845\n",
      "Data columns (total 2 columns):\n",
      " #   Column  Non-Null Count  Dtype \n",
      "---  ------  --------------  ----- \n",
      " 0   Label   4846 non-null   object\n",
      " 1   Text    4846 non-null   object\n",
      "dtypes: object(2)\n",
      "memory usage: 75.8+ KB\n"
     ]
    }
   ],
   "source": [
    "data.info()"
   ]
  },
  {
   "cell_type": "markdown",
   "metadata": {
    "papermill": {
     "duration": 0.009141,
     "end_time": "2024-12-06T02:22:04.042778",
     "exception": false,
     "start_time": "2024-12-06T02:22:04.033637",
     "status": "completed"
    },
    "tags": []
   },
   "source": [
    "# Preprocessing"
   ]
  },
  {
   "cell_type": "code",
   "execution_count": 5,
   "metadata": {
    "execution": {
     "iopub.execute_input": "2024-12-06T02:22:04.068006Z",
     "iopub.status.busy": "2024-12-06T02:22:04.067156Z",
     "iopub.status.idle": "2024-12-06T02:22:04.069773Z",
     "shell.execute_reply": "2024-12-06T02:22:04.069276Z",
     "shell.execute_reply.started": "2024-12-06T02:13:36.040843Z"
    },
    "papermill": {
     "duration": 0.017695,
     "end_time": "2024-12-06T02:22:04.069913",
     "exception": false,
     "start_time": "2024-12-06T02:22:04.052218",
     "status": "completed"
    },
    "tags": []
   },
   "outputs": [],
   "source": [
    "# encode each word as it's own integer + sort words in order of frequency\n",
    "def get_sequences(texts):\n",
    "    tokenizer = Tokenizer()\n",
    "    tokenizer.fit_on_texts(texts)\n",
    "    \n",
    "    sequences = tokenizer.texts_to_sequences(texts)\n",
    "    print(\"Vocab length:\", len(tokenizer.word_index) + 1)\n",
    "    \n",
    "    max_seq_length = np.max(list(map(lambda x: len(x), sequences)))\n",
    "    print(\"Maximum sequence length:\", max_seq_length)\n",
    "    \n",
    "    sequences = pad_sequences(sequences, maxlen=max_seq_length, padding='post')\n",
    "    # padding='post' means 0 go to the end\n",
    "    \n",
    "    return sequences"
   ]
  },
  {
   "cell_type": "code",
   "execution_count": 6,
   "metadata": {
    "execution": {
     "iopub.execute_input": "2024-12-06T02:22:04.094171Z",
     "iopub.status.busy": "2024-12-06T02:22:04.093585Z",
     "iopub.status.idle": "2024-12-06T02:22:04.096204Z",
     "shell.execute_reply": "2024-12-06T02:22:04.095669Z",
     "shell.execute_reply.started": "2024-12-06T02:13:36.058199Z"
    },
    "papermill": {
     "duration": 0.016949,
     "end_time": "2024-12-06T02:22:04.096355",
     "exception": false,
     "start_time": "2024-12-06T02:22:04.079406",
     "status": "completed"
    },
    "tags": []
   },
   "outputs": [],
   "source": [
    "# makes a copy of what we have\n",
    "def preprocess_inputs(df):\n",
    "    df = df.copy()\n",
    "    \n",
    "    sequences = get_sequences(df['Text'])\n",
    "    \n",
    "    label_mapping = {\n",
    "        'negative': 0,\n",
    "        'neutral': 1,\n",
    "        'positive': 2\n",
    "    }\n",
    "\n",
    "    # performs the mapping function\n",
    "    y = df['Label'].replace(label_mapping)\n",
    "    \n",
    "    train_sequences, test_sequences, y_train, y_test = train_test_split(sequences, y, train_size=0.7, shuffle=True, random_state=1)\n",
    "    \n",
    "    return train_sequences, test_sequences, y_train, y_test"
   ]
  },
  {
   "cell_type": "code",
   "execution_count": 7,
   "metadata": {
    "execution": {
     "iopub.execute_input": "2024-12-06T02:22:04.151204Z",
     "iopub.status.busy": "2024-12-06T02:22:04.146295Z",
     "iopub.status.idle": "2024-12-06T02:22:04.354694Z",
     "shell.execute_reply": "2024-12-06T02:22:04.355151Z",
     "shell.execute_reply.started": "2024-12-06T02:13:36.073048Z"
    },
    "papermill": {
     "duration": 0.249499,
     "end_time": "2024-12-06T02:22:04.355335",
     "exception": false,
     "start_time": "2024-12-06T02:22:04.105836",
     "status": "completed"
    },
    "tags": []
   },
   "outputs": [
    {
     "name": "stdout",
     "output_type": "stream",
     "text": [
      "Vocab length: 10123\n",
      "Maximum sequence length: 71\n"
     ]
    }
   ],
   "source": [
    "train_sequences, test_sequences, y_train, y_test = preprocess_inputs(data)"
   ]
  },
  {
   "cell_type": "code",
   "execution_count": 8,
   "metadata": {
    "execution": {
     "iopub.execute_input": "2024-12-06T02:22:04.383455Z",
     "iopub.status.busy": "2024-12-06T02:22:04.382491Z",
     "iopub.status.idle": "2024-12-06T02:22:04.386251Z",
     "shell.execute_reply": "2024-12-06T02:22:04.385700Z",
     "shell.execute_reply.started": "2024-12-06T02:13:36.393471Z"
    },
    "papermill": {
     "duration": 0.019655,
     "end_time": "2024-12-06T02:22:04.386432",
     "exception": false,
     "start_time": "2024-12-06T02:22:04.366777",
     "status": "completed"
    },
    "tags": []
   },
   "outputs": [
    {
     "data": {
      "text/plain": [
       "array([[5442,  510,   16, ...,    0,    0,    0],\n",
       "       [  22, 1628,    4, ...,    0,    0,    0],\n",
       "       [1141,  936,  136, ...,    0,    0,    0],\n",
       "       ...,\n",
       "       [   1,  419,   16, ...,    0,    0,    0],\n",
       "       [2586,  123, 3247, ...,    0,    0,    0],\n",
       "       [  30,  615,  555, ...,    0,    0,    0]], dtype=int32)"
      ]
     },
     "execution_count": 8,
     "metadata": {},
     "output_type": "execute_result"
    }
   ],
   "source": [
    "# vector length is 71\n",
    "train_sequences"
   ]
  },
  {
   "cell_type": "code",
   "execution_count": 9,
   "metadata": {
    "execution": {
     "iopub.execute_input": "2024-12-06T02:22:04.413674Z",
     "iopub.status.busy": "2024-12-06T02:22:04.412887Z",
     "iopub.status.idle": "2024-12-06T02:22:04.415901Z",
     "shell.execute_reply": "2024-12-06T02:22:04.416483Z",
     "shell.execute_reply.started": "2024-12-06T02:13:36.402692Z"
    },
    "papermill": {
     "duration": 0.019756,
     "end_time": "2024-12-06T02:22:04.416670",
     "exception": false,
     "start_time": "2024-12-06T02:22:04.396914",
     "status": "completed"
    },
    "tags": []
   },
   "outputs": [
    {
     "data": {
      "text/plain": [
       "545     2\n",
       "2374    0\n",
       "4217    1\n",
       "1071    1\n",
       "716     2\n",
       "       ..\n",
       "2895    1\n",
       "2763    1\n",
       "905     2\n",
       "3980    1\n",
       "235     2\n",
       "Name: Label, Length: 3392, dtype: int64"
      ]
     },
     "execution_count": 9,
     "metadata": {},
     "output_type": "execute_result"
    }
   ],
   "source": [
    "# numeric integer labels\n",
    "y_train"
   ]
  },
  {
   "cell_type": "markdown",
   "metadata": {
    "papermill": {
     "duration": 0.0103,
     "end_time": "2024-12-06T02:22:04.438046",
     "exception": false,
     "start_time": "2024-12-06T02:22:04.427746",
     "status": "completed"
    },
    "tags": []
   },
   "source": [
    "# Training"
   ]
  },
  {
   "cell_type": "code",
   "execution_count": 10,
   "metadata": {
    "execution": {
     "iopub.execute_input": "2024-12-06T02:22:04.466633Z",
     "iopub.status.busy": "2024-12-06T02:22:04.465911Z",
     "iopub.status.idle": "2024-12-06T02:22:57.698827Z",
     "shell.execute_reply": "2024-12-06T02:22:57.698161Z",
     "shell.execute_reply.started": "2024-12-06T02:13:36.420155Z"
    },
    "papermill": {
     "duration": 53.250237,
     "end_time": "2024-12-06T02:22:57.698971",
     "exception": false,
     "start_time": "2024-12-06T02:22:04.448734",
     "status": "completed"
    },
    "tags": []
   },
   "outputs": [
    {
     "name": "stdout",
     "output_type": "stream",
     "text": [
      "Epoch 1/100\n",
      "85/85 [==============================] - 12s 124ms/step - loss: 0.8864 - accuracy: 0.6204 - val_loss: 0.7976 - val_accuracy: 0.6333\n",
      "Epoch 2/100\n",
      "85/85 [==============================] - 10s 118ms/step - loss: 0.5147 - accuracy: 0.7866 - val_loss: 0.7009 - val_accuracy: 0.7084\n",
      "Epoch 3/100\n",
      "85/85 [==============================] - 10s 121ms/step - loss: 0.1627 - accuracy: 0.9553 - val_loss: 1.1588 - val_accuracy: 0.6907\n",
      "Epoch 4/100\n",
      "85/85 [==============================] - 10s 118ms/step - loss: 0.0428 - accuracy: 0.9869 - val_loss: 1.0043 - val_accuracy: 0.6981\n",
      "Epoch 5/100\n",
      "85/85 [==============================] - 10s 117ms/step - loss: 0.0143 - accuracy: 0.9968 - val_loss: 1.0801 - val_accuracy: 0.7040\n"
     ]
    }
   ],
   "source": [
    "inputs = tf.keras.Input(shape=(train_sequences.shape[1],))\n",
    "x = tf.keras.layers.Embedding(\n",
    "    input_dim=10123,\n",
    "    output_dim=128,\n",
    "    input_length=train_sequences.shape[1]\n",
    ")(inputs)\n",
    "\n",
    "# Using GRU model which is type of RNN\n",
    "x = tf.keras.layers.GRU(256, return_sequences=True, activation='tanh')(x)\n",
    "x = tf.keras.layers.Flatten()(x)\n",
    "outputs = tf.keras.layers.Dense(3, activation='softmax')(x)\n",
    "\n",
    "model = tf.keras.Model(inputs=inputs, outputs=outputs)\n",
    "\n",
    "model.compile(\n",
    "    optimizer='adam',\n",
    "    loss='sparse_categorical_crossentropy',\n",
    "    metrics=['accuracy']\n",
    ")\n",
    "\n",
    "history = model.fit(\n",
    "    train_sequences,\n",
    "    y_train,\n",
    "    validation_split=0.2,\n",
    "    batch_size=32,\n",
    "    epochs=100,\n",
    "    callbacks=[\n",
    "        tf.keras.callbacks.EarlyStopping(\n",
    "            monitor='val_loss',\n",
    "            patience=3,\n",
    "            restore_best_weights=True\n",
    "        )\n",
    "    ]\n",
    ")"
   ]
  },
  {
   "cell_type": "markdown",
   "metadata": {
    "papermill": {
     "duration": 0.107418,
     "end_time": "2024-12-06T02:22:57.914576",
     "exception": false,
     "start_time": "2024-12-06T02:22:57.807158",
     "status": "completed"
    },
    "tags": []
   },
   "source": [
    "# Results"
   ]
  },
  {
   "cell_type": "code",
   "execution_count": 11,
   "metadata": {
    "execution": {
     "iopub.execute_input": "2024-12-06T02:22:58.133067Z",
     "iopub.status.busy": "2024-12-06T02:22:58.132108Z",
     "iopub.status.idle": "2024-12-06T02:22:59.601704Z",
     "shell.execute_reply": "2024-12-06T02:22:59.601134Z",
     "shell.execute_reply.started": "2024-12-06T02:14:38.749056Z"
    },
    "papermill": {
     "duration": 1.581332,
     "end_time": "2024-12-06T02:22:59.601864",
     "exception": false,
     "start_time": "2024-12-06T02:22:58.020532",
     "status": "completed"
    },
    "tags": []
   },
   "outputs": [
    {
     "name": "stdout",
     "output_type": "stream",
     "text": [
      "    Test Loss: 0.63234\n",
      "Test Accuracy: 74.42%\n"
     ]
    }
   ],
   "source": [
    "results = model.evaluate(test_sequences, y_test, verbose=0)\n",
    "\n",
    "print(\"    Test Loss: {:.5f}\".format(results[0]))\n",
    "print(\"Test Accuracy: {:.2f}%\".format(results[1] * 100))"
   ]
  },
  {
   "cell_type": "code",
   "execution_count": 12,
   "metadata": {
    "execution": {
     "iopub.execute_input": "2024-12-06T02:22:59.825163Z",
     "iopub.status.busy": "2024-12-06T02:22:59.824454Z",
     "iopub.status.idle": "2024-12-06T02:22:59.828038Z",
     "shell.execute_reply": "2024-12-06T02:22:59.827470Z",
     "shell.execute_reply.started": "2024-12-06T02:14:40.502282Z"
    },
    "papermill": {
     "duration": 0.118133,
     "end_time": "2024-12-06T02:22:59.828175",
     "exception": false,
     "start_time": "2024-12-06T02:22:59.710042",
     "status": "completed"
    },
    "tags": []
   },
   "outputs": [
    {
     "data": {
      "text/plain": [
       "1    850\n",
       "2    420\n",
       "0    184\n",
       "Name: Label, dtype: int64"
      ]
     },
     "execution_count": 12,
     "metadata": {},
     "output_type": "execute_result"
    }
   ],
   "source": [
    "# see how many pos/neg/neu\n",
    "y_test.value_counts()"
   ]
  }
 ],
 "metadata": {
  "kaggle": {
   "accelerator": "gpu",
   "dataSources": [
    {
     "datasetId": 622510,
     "sourceId": 1192499,
     "sourceType": "datasetVersion"
    }
   ],
   "dockerImageVersionId": 30055,
   "isGpuEnabled": true,
   "isInternetEnabled": false,
   "language": "python",
   "sourceType": "notebook"
  },
  "kernelspec": {
   "display_name": "Python 3",
   "language": "python",
   "name": "python3"
  },
  "language_info": {
   "codemirror_mode": {
    "name": "ipython",
    "version": 3
   },
   "file_extension": ".py",
   "mimetype": "text/x-python",
   "name": "python",
   "nbconvert_exporter": "python",
   "pygments_lexer": "ipython3",
   "version": "3.7.9"
  },
  "papermill": {
   "default_parameters": {},
   "duration": 68.041083,
   "end_time": "2024-12-06T02:23:01.045071",
   "environment_variables": {},
   "exception": null,
   "input_path": "__notebook__.ipynb",
   "output_path": "__notebook__.ipynb",
   "parameters": {},
   "start_time": "2024-12-06T02:21:53.003988",
   "version": "2.2.2"
  }
 },
 "nbformat": 4,
 "nbformat_minor": 4
}
